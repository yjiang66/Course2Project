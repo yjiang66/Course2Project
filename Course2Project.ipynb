{
  "metadata": {
    "language_info": {
      "codemirror_mode": {
        "name": "python",
        "version": 3
      },
      "file_extension": ".py",
      "mimetype": "text/x-python",
      "name": "python",
      "nbconvert_exporter": "python",
      "pygments_lexer": "ipython3",
      "version": "3.8"
    },
    "kernelspec": {
      "name": "python",
      "display_name": "Pyolite",
      "language": "python"
    }
  },
  "nbformat_minor": 4,
  "nbformat": 4,
  "cells": [
    {
      "cell_type": "markdown",
      "source": "# My Jupyter Notebook on IBM Watson Studio",
      "metadata": {}
    },
    {
      "cell_type": "markdown",
      "source": "**Yi-Chong Jiang**\n\nData Analyst",
      "metadata": {}
    },
    {
      "cell_type": "markdown",
      "source": "*I am interested in data science because the skills in data science nowadays is very popular and useful everywhere.*",
      "metadata": {}
    },
    {
      "cell_type": "markdown",
      "source": "### The following cell prints out the result of 1+1",
      "metadata": {}
    },
    {
      "cell_type": "code",
      "source": "print(1+1)",
      "metadata": {
        "trusted": true
      },
      "execution_count": 2,
      "outputs": [
        {
          "name": "stdout",
          "text": "2\n",
          "output_type": "stream"
        }
      ]
    },
    {
      "cell_type": "markdown",
      "source": "~~Strikethrough~~\n\n> Blocked Quotes\n\n`Code/Syntax Highlighting`",
      "metadata": {}
    }
  ]
}